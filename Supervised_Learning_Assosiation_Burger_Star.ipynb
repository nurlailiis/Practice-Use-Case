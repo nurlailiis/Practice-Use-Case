{
  "nbformat": 4,
  "nbformat_minor": 0,
  "metadata": {
    "colab": {
      "name": "Supervised Learning-Assosiation Burger Star.ipynb",
      "version": "0.3.2",
      "provenance": []
    },
    "kernelspec": {
      "name": "python3",
      "display_name": "Python 3"
    }
  },
  "cells": [
    {
      "cell_type": "markdown",
      "metadata": {
        "id": "zbSAiQShQRO6",
        "colab_type": "text"
      },
      "source": [
        "# OVERVIEW"
      ]
    },
    {
      "cell_type": "markdown",
      "metadata": {
        "id": "sKGgccjwQVVx",
        "colab_type": "text"
      },
      "source": [
        ""
      ]
    },
    {
      "cell_type": "code",
      "metadata": {
        "id": "YuJAwUQeleC6",
        "colab_type": "code",
        "colab": {}
      },
      "source": [
        "#import numpy and pandas\n",
        "import numpy as np\n",
        "import pandas as pd\n",
        "\n",
        "from mlxtend.preprocessing import OnehotTransactions\n",
        "from mlxtend.frequent_patterns import apriori\n",
        "from mlxtend.frequent_patterns import association_rules"
      ],
      "execution_count": 0,
      "outputs": []
    },
    {
      "cell_type": "code",
      "metadata": {
        "id": "6liLyNbslpOu",
        "colab_type": "code",
        "outputId": "7fd57d3d-d976-4b18-e2f4-9cd12cf3c7d6",
        "colab": {
          "base_uri": "https://localhost:8080/",
          "height": 204
        }
      },
      "source": [
        "#read data\n",
        "burgerstar = pd.read_csv('/burgerstarall.csv')\n",
        "burgerstar.head()"
      ],
      "execution_count": 0,
      "outputs": [
        {
          "output_type": "execute_result",
          "data": {
            "text/html": [
              "<div>\n",
              "<style scoped>\n",
              "    .dataframe tbody tr th:only-of-type {\n",
              "        vertical-align: middle;\n",
              "    }\n",
              "\n",
              "    .dataframe tbody tr th {\n",
              "        vertical-align: top;\n",
              "    }\n",
              "\n",
              "    .dataframe thead th {\n",
              "        text-align: right;\n",
              "    }\n",
              "</style>\n",
              "<table border=\"1\" class=\"dataframe\">\n",
              "  <thead>\n",
              "    <tr style=\"text-align: right;\">\n",
              "      <th></th>\n",
              "      <th>Timestamp</th>\n",
              "      <th>Type Burger</th>\n",
              "      <th>Code Burger</th>\n",
              "      <th>Amount Burger</th>\n",
              "      <th>Type Drink</th>\n",
              "      <th>Code Drink</th>\n",
              "      <th>Amount Drink</th>\n",
              "      <th>Gender</th>\n",
              "      <th>Payment</th>\n",
              "    </tr>\n",
              "  </thead>\n",
              "  <tbody>\n",
              "    <tr>\n",
              "      <th>0</th>\n",
              "      <td>10:01</td>\n",
              "      <td>Beef burger</td>\n",
              "      <td>1</td>\n",
              "      <td>6</td>\n",
              "      <td>Mineral water</td>\n",
              "      <td>1</td>\n",
              "      <td>3</td>\n",
              "      <td>1</td>\n",
              "      <td>DANA</td>\n",
              "    </tr>\n",
              "    <tr>\n",
              "      <th>1</th>\n",
              "      <td>10:04</td>\n",
              "      <td>Cheese burger</td>\n",
              "      <td>3</td>\n",
              "      <td>12</td>\n",
              "      <td>Coke</td>\n",
              "      <td>2</td>\n",
              "      <td>10</td>\n",
              "      <td>0</td>\n",
              "      <td>DANA</td>\n",
              "    </tr>\n",
              "    <tr>\n",
              "      <th>2</th>\n",
              "      <td>10:05</td>\n",
              "      <td>Double cheese burger</td>\n",
              "      <td>4</td>\n",
              "      <td>10</td>\n",
              "      <td>Mineral water</td>\n",
              "      <td>1</td>\n",
              "      <td>5</td>\n",
              "      <td>0</td>\n",
              "      <td>LINK AJA</td>\n",
              "    </tr>\n",
              "    <tr>\n",
              "      <th>3</th>\n",
              "      <td>10:06</td>\n",
              "      <td>Chicken burger</td>\n",
              "      <td>2</td>\n",
              "      <td>9</td>\n",
              "      <td>Coffe</td>\n",
              "      <td>3</td>\n",
              "      <td>9</td>\n",
              "      <td>0</td>\n",
              "      <td>DANA</td>\n",
              "    </tr>\n",
              "    <tr>\n",
              "      <th>4</th>\n",
              "      <td>10:07</td>\n",
              "      <td>Cheese burger</td>\n",
              "      <td>3</td>\n",
              "      <td>11</td>\n",
              "      <td>Coke</td>\n",
              "      <td>2</td>\n",
              "      <td>3</td>\n",
              "      <td>1</td>\n",
              "      <td>DANA</td>\n",
              "    </tr>\n",
              "  </tbody>\n",
              "</table>\n",
              "</div>"
            ],
            "text/plain": [
              "  Timestamp           Type Burger  Code Burger  ...  Amount Drink Gender   Payment\n",
              "0     10:01           Beef burger            1  ...             3      1      DANA\n",
              "1     10:04         Cheese burger            3  ...            10      0      DANA\n",
              "2     10:05  Double cheese burger            4  ...             5      0  LINK AJA\n",
              "3     10:06        Chicken burger            2  ...             9      0      DANA\n",
              "4     10:07         Cheese burger            3  ...             3      1      DANA\n",
              "\n",
              "[5 rows x 9 columns]"
            ]
          },
          "metadata": {
            "tags": []
          },
          "execution_count": 36
        }
      ]
    },
    {
      "cell_type": "code",
      "metadata": {
        "id": "UEKpySWClrRr",
        "colab_type": "code",
        "outputId": "00683540-95a2-4430-c318-1e43a4034a93",
        "colab": {
          "base_uri": "https://localhost:8080/",
          "height": 119
        }
      },
      "source": [
        "burgerstar['type'] = burgerstar[['Type Burger','Type Drink','Payment']].values.tolist()\n",
        "burgerstar['type'].head()"
      ],
      "execution_count": 0,
      "outputs": [
        {
          "output_type": "execute_result",
          "data": {
            "text/plain": [
              "0                 [Beef burger, Mineral water, DANA]\n",
              "1                        [Cheese burger, Coke, DANA]\n",
              "2    [Double cheese burger, Mineral water, LINK AJA]\n",
              "3                      [Chicken burger, Coffe, DANA]\n",
              "4                        [Cheese burger, Coke, DANA]\n",
              "Name: type, dtype: object"
            ]
          },
          "metadata": {
            "tags": []
          },
          "execution_count": 37
        }
      ]
    },
    {
      "cell_type": "markdown",
      "metadata": {
        "id": "n5HLGWdhpE7q",
        "colab_type": "text"
      },
      "source": [
        "## **ASSOCIATION RULE**"
      ]
    },
    {
      "cell_type": "code",
      "metadata": {
        "id": "y2OOAm1yltrZ",
        "colab_type": "code",
        "outputId": "26127b08-1be5-4e1b-c8f9-bcee9c3f47d9",
        "colab": {
          "base_uri": "https://localhost:8080/",
          "height": 204
        }
      },
      "source": [
        "association_rules(frequent_itemsets, metric=\"confidence\", min_threshold=0.05)\n",
        "rules = association_rules(frequent_itemsets, metric=\"lift\", min_threshold=0.05)\n",
        "rules.head()"
      ],
      "execution_count": 0,
      "outputs": [
        {
          "output_type": "execute_result",
          "data": {
            "text/html": [
              "<div>\n",
              "<style scoped>\n",
              "    .dataframe tbody tr th:only-of-type {\n",
              "        vertical-align: middle;\n",
              "    }\n",
              "\n",
              "    .dataframe tbody tr th {\n",
              "        vertical-align: top;\n",
              "    }\n",
              "\n",
              "    .dataframe thead th {\n",
              "        text-align: right;\n",
              "    }\n",
              "</style>\n",
              "<table border=\"1\" class=\"dataframe\">\n",
              "  <thead>\n",
              "    <tr style=\"text-align: right;\">\n",
              "      <th></th>\n",
              "      <th>antecedents</th>\n",
              "      <th>consequents</th>\n",
              "      <th>antecedent support</th>\n",
              "      <th>consequent support</th>\n",
              "      <th>support</th>\n",
              "      <th>confidence</th>\n",
              "      <th>lift</th>\n",
              "      <th>leverage</th>\n",
              "      <th>conviction</th>\n",
              "    </tr>\n",
              "  </thead>\n",
              "  <tbody>\n",
              "    <tr>\n",
              "      <th>0</th>\n",
              "      <td>(Beef burger)</td>\n",
              "      <td>(Coffe)</td>\n",
              "      <td>0.371795</td>\n",
              "      <td>0.282051</td>\n",
              "      <td>0.089744</td>\n",
              "      <td>0.241379</td>\n",
              "      <td>0.855799</td>\n",
              "      <td>-0.015122</td>\n",
              "      <td>0.946387</td>\n",
              "    </tr>\n",
              "    <tr>\n",
              "      <th>1</th>\n",
              "      <td>(Coffe)</td>\n",
              "      <td>(Beef burger)</td>\n",
              "      <td>0.282051</td>\n",
              "      <td>0.371795</td>\n",
              "      <td>0.089744</td>\n",
              "      <td>0.318182</td>\n",
              "      <td>0.855799</td>\n",
              "      <td>-0.015122</td>\n",
              "      <td>0.921368</td>\n",
              "    </tr>\n",
              "    <tr>\n",
              "      <th>2</th>\n",
              "      <td>(Beef burger)</td>\n",
              "      <td>(Coke)</td>\n",
              "      <td>0.371795</td>\n",
              "      <td>0.221154</td>\n",
              "      <td>0.041667</td>\n",
              "      <td>0.112069</td>\n",
              "      <td>0.506747</td>\n",
              "      <td>-0.040557</td>\n",
              "      <td>0.877147</td>\n",
              "    </tr>\n",
              "    <tr>\n",
              "      <th>3</th>\n",
              "      <td>(Coke)</td>\n",
              "      <td>(Beef burger)</td>\n",
              "      <td>0.221154</td>\n",
              "      <td>0.371795</td>\n",
              "      <td>0.041667</td>\n",
              "      <td>0.188406</td>\n",
              "      <td>0.506747</td>\n",
              "      <td>-0.040557</td>\n",
              "      <td>0.774038</td>\n",
              "    </tr>\n",
              "    <tr>\n",
              "      <th>4</th>\n",
              "      <td>(Beef burger)</td>\n",
              "      <td>(DANA)</td>\n",
              "      <td>0.371795</td>\n",
              "      <td>0.205128</td>\n",
              "      <td>0.060897</td>\n",
              "      <td>0.163793</td>\n",
              "      <td>0.798491</td>\n",
              "      <td>-0.015368</td>\n",
              "      <td>0.950568</td>\n",
              "    </tr>\n",
              "  </tbody>\n",
              "</table>\n",
              "</div>"
            ],
            "text/plain": [
              "     antecedents    consequents  ...  leverage  conviction\n",
              "0  (Beef burger)        (Coffe)  ... -0.015122    0.946387\n",
              "1        (Coffe)  (Beef burger)  ... -0.015122    0.921368\n",
              "2  (Beef burger)         (Coke)  ... -0.040557    0.877147\n",
              "3         (Coke)  (Beef burger)  ... -0.040557    0.774038\n",
              "4  (Beef burger)         (DANA)  ... -0.015368    0.950568\n",
              "\n",
              "[5 rows x 9 columns]"
            ]
          },
          "metadata": {
            "tags": []
          },
          "execution_count": 38
        }
      ]
    },
    {
      "cell_type": "code",
      "metadata": {
        "id": "l6jef-Jlmx3G",
        "colab_type": "code",
        "outputId": "defb32a7-47c4-491e-a335-6bf4d89d6a33",
        "colab": {
          "base_uri": "https://localhost:8080/",
          "height": 258
        }
      },
      "source": [
        "oht = OnehotTransactions()\n",
        "oht_array = oht.fit(burgerstar['type']).transform(burgerstar['type'])\n",
        "burgerstar1 = pd.DataFrame(oht_array, columns=oht.columns_)\n",
        "burgerstar1.head() "
      ],
      "execution_count": 0,
      "outputs": [
        {
          "output_type": "stream",
          "text": [
            "/usr/local/lib/python3.6/dist-packages/mlxtend/preprocessing/onehot.py:66: DeprecationWarning: OnehotTransactions has been deprecated and will be removed in future. Please use TransactionEncoder instead.\n",
            "  warnings.warn(msg, DeprecationWarning)\n"
          ],
          "name": "stderr"
        },
        {
          "output_type": "execute_result",
          "data": {
            "text/html": [
              "<div>\n",
              "<style scoped>\n",
              "    .dataframe tbody tr th:only-of-type {\n",
              "        vertical-align: middle;\n",
              "    }\n",
              "\n",
              "    .dataframe tbody tr th {\n",
              "        vertical-align: top;\n",
              "    }\n",
              "\n",
              "    .dataframe thead th {\n",
              "        text-align: right;\n",
              "    }\n",
              "</style>\n",
              "<table border=\"1\" class=\"dataframe\">\n",
              "  <thead>\n",
              "    <tr style=\"text-align: right;\">\n",
              "      <th></th>\n",
              "      <th>Beef burger</th>\n",
              "      <th>Cheese burger</th>\n",
              "      <th>Chicken burger</th>\n",
              "      <th>Coffe</th>\n",
              "      <th>Coke</th>\n",
              "      <th>DANA</th>\n",
              "      <th>Double cheese burger</th>\n",
              "      <th>GOPAY</th>\n",
              "      <th>LINK AJA</th>\n",
              "      <th>Mineral water</th>\n",
              "      <th>None</th>\n",
              "      <th>OVO</th>\n",
              "      <th>TUNAI</th>\n",
              "    </tr>\n",
              "  </thead>\n",
              "  <tbody>\n",
              "    <tr>\n",
              "      <th>0</th>\n",
              "      <td>True</td>\n",
              "      <td>False</td>\n",
              "      <td>False</td>\n",
              "      <td>False</td>\n",
              "      <td>False</td>\n",
              "      <td>True</td>\n",
              "      <td>False</td>\n",
              "      <td>False</td>\n",
              "      <td>False</td>\n",
              "      <td>True</td>\n",
              "      <td>False</td>\n",
              "      <td>False</td>\n",
              "      <td>False</td>\n",
              "    </tr>\n",
              "    <tr>\n",
              "      <th>1</th>\n",
              "      <td>False</td>\n",
              "      <td>True</td>\n",
              "      <td>False</td>\n",
              "      <td>False</td>\n",
              "      <td>True</td>\n",
              "      <td>True</td>\n",
              "      <td>False</td>\n",
              "      <td>False</td>\n",
              "      <td>False</td>\n",
              "      <td>False</td>\n",
              "      <td>False</td>\n",
              "      <td>False</td>\n",
              "      <td>False</td>\n",
              "    </tr>\n",
              "    <tr>\n",
              "      <th>2</th>\n",
              "      <td>False</td>\n",
              "      <td>False</td>\n",
              "      <td>False</td>\n",
              "      <td>False</td>\n",
              "      <td>False</td>\n",
              "      <td>False</td>\n",
              "      <td>True</td>\n",
              "      <td>False</td>\n",
              "      <td>True</td>\n",
              "      <td>True</td>\n",
              "      <td>False</td>\n",
              "      <td>False</td>\n",
              "      <td>False</td>\n",
              "    </tr>\n",
              "    <tr>\n",
              "      <th>3</th>\n",
              "      <td>False</td>\n",
              "      <td>False</td>\n",
              "      <td>True</td>\n",
              "      <td>True</td>\n",
              "      <td>False</td>\n",
              "      <td>True</td>\n",
              "      <td>False</td>\n",
              "      <td>False</td>\n",
              "      <td>False</td>\n",
              "      <td>False</td>\n",
              "      <td>False</td>\n",
              "      <td>False</td>\n",
              "      <td>False</td>\n",
              "    </tr>\n",
              "    <tr>\n",
              "      <th>4</th>\n",
              "      <td>False</td>\n",
              "      <td>True</td>\n",
              "      <td>False</td>\n",
              "      <td>False</td>\n",
              "      <td>True</td>\n",
              "      <td>True</td>\n",
              "      <td>False</td>\n",
              "      <td>False</td>\n",
              "      <td>False</td>\n",
              "      <td>False</td>\n",
              "      <td>False</td>\n",
              "      <td>False</td>\n",
              "      <td>False</td>\n",
              "    </tr>\n",
              "  </tbody>\n",
              "</table>\n",
              "</div>"
            ],
            "text/plain": [
              "   Beef burger  Cheese burger  Chicken burger  ...   None    OVO  TUNAI\n",
              "0         True          False           False  ...  False  False  False\n",
              "1        False           True           False  ...  False  False  False\n",
              "2        False          False           False  ...  False  False  False\n",
              "3        False          False            True  ...  False  False  False\n",
              "4        False           True           False  ...  False  False  False\n",
              "\n",
              "[5 rows x 13 columns]"
            ]
          },
          "metadata": {
            "tags": []
          },
          "execution_count": 39
        }
      ]
    },
    {
      "cell_type": "code",
      "metadata": {
        "id": "QjaJknwLnCa3",
        "colab_type": "code",
        "outputId": "c62c058e-31f8-44dd-9ea0-50e7c938d62d",
        "colab": {
          "base_uri": "https://localhost:8080/",
          "height": 669
        }
      },
      "source": [
        "frequent_itemsets = apriori(burgerstar1, min_support=0.005, use_colnames=True)\n",
        "freq = frequent_itemsets.sort_values(by='support', ascending=True)\n",
        "freq.head(20)"
      ],
      "execution_count": 0,
      "outputs": [
        {
          "output_type": "execute_result",
          "data": {
            "text/html": [
              "<div>\n",
              "<style scoped>\n",
              "    .dataframe tbody tr th:only-of-type {\n",
              "        vertical-align: middle;\n",
              "    }\n",
              "\n",
              "    .dataframe tbody tr th {\n",
              "        vertical-align: top;\n",
              "    }\n",
              "\n",
              "    .dataframe thead th {\n",
              "        text-align: right;\n",
              "    }\n",
              "</style>\n",
              "<table border=\"1\" class=\"dataframe\">\n",
              "  <thead>\n",
              "    <tr style=\"text-align: right;\">\n",
              "      <th></th>\n",
              "      <th>support</th>\n",
              "      <th>itemsets</th>\n",
              "    </tr>\n",
              "  </thead>\n",
              "  <tbody>\n",
              "    <tr>\n",
              "      <th>76</th>\n",
              "      <td>0.006410</td>\n",
              "      <td>(Beef burger, None, OVO)</td>\n",
              "    </tr>\n",
              "    <tr>\n",
              "      <th>94</th>\n",
              "      <td>0.006410</td>\n",
              "      <td>(GOPAY, Double cheese burger, Coffe)</td>\n",
              "    </tr>\n",
              "    <tr>\n",
              "      <th>66</th>\n",
              "      <td>0.006410</td>\n",
              "      <td>(GOPAY, Beef burger, Coke)</td>\n",
              "    </tr>\n",
              "    <tr>\n",
              "      <th>69</th>\n",
              "      <td>0.009615</td>\n",
              "      <td>(Beef burger, Coke, TUNAI)</td>\n",
              "    </tr>\n",
              "    <tr>\n",
              "      <th>63</th>\n",
              "      <td>0.009615</td>\n",
              "      <td>(GOPAY, Beef burger, Coffe)</td>\n",
              "    </tr>\n",
              "    <tr>\n",
              "      <th>86</th>\n",
              "      <td>0.012821</td>\n",
              "      <td>(Chicken burger, Coffe, OVO)</td>\n",
              "    </tr>\n",
              "    <tr>\n",
              "      <th>73</th>\n",
              "      <td>0.012821</td>\n",
              "      <td>(None, Beef burger, LINK AJA)</td>\n",
              "    </tr>\n",
              "    <tr>\n",
              "      <th>96</th>\n",
              "      <td>0.012821</td>\n",
              "      <td>(Double cheese burger, Coffe, OVO)</td>\n",
              "    </tr>\n",
              "    <tr>\n",
              "      <th>68</th>\n",
              "      <td>0.012821</td>\n",
              "      <td>(Beef burger, Coke, OVO)</td>\n",
              "    </tr>\n",
              "    <tr>\n",
              "      <th>93</th>\n",
              "      <td>0.012821</td>\n",
              "      <td>(DANA, Double cheese burger, Coffe)</td>\n",
              "    </tr>\n",
              "    <tr>\n",
              "      <th>67</th>\n",
              "      <td>0.012821</td>\n",
              "      <td>(Beef burger, Coke, LINK AJA)</td>\n",
              "    </tr>\n",
              "    <tr>\n",
              "      <th>91</th>\n",
              "      <td>0.012821</td>\n",
              "      <td>(Chicken burger, None, OVO)</td>\n",
              "    </tr>\n",
              "    <tr>\n",
              "      <th>77</th>\n",
              "      <td>0.016026</td>\n",
              "      <td>(TUNAI, Beef burger, None)</td>\n",
              "    </tr>\n",
              "    <tr>\n",
              "      <th>64</th>\n",
              "      <td>0.016026</td>\n",
              "      <td>(Beef burger, LINK AJA, Coffe)</td>\n",
              "    </tr>\n",
              "    <tr>\n",
              "      <th>102</th>\n",
              "      <td>0.016026</td>\n",
              "      <td>(Mineral water, Double cheese burger, TUNAI)</td>\n",
              "    </tr>\n",
              "    <tr>\n",
              "      <th>95</th>\n",
              "      <td>0.019231</td>\n",
              "      <td>(Double cheese burger, LINK AJA, Coffe)</td>\n",
              "    </tr>\n",
              "    <tr>\n",
              "      <th>60</th>\n",
              "      <td>0.019231</td>\n",
              "      <td>(None, OVO)</td>\n",
              "    </tr>\n",
              "    <tr>\n",
              "      <th>90</th>\n",
              "      <td>0.022436</td>\n",
              "      <td>(Chicken burger, None, LINK AJA)</td>\n",
              "    </tr>\n",
              "    <tr>\n",
              "      <th>101</th>\n",
              "      <td>0.022436</td>\n",
              "      <td>(Mineral water, Double cheese burger, OVO)</td>\n",
              "    </tr>\n",
              "    <tr>\n",
              "      <th>27</th>\n",
              "      <td>0.022436</td>\n",
              "      <td>(Cheese burger, TUNAI)</td>\n",
              "    </tr>\n",
              "  </tbody>\n",
              "</table>\n",
              "</div>"
            ],
            "text/plain": [
              "      support                                      itemsets\n",
              "76   0.006410                      (Beef burger, None, OVO)\n",
              "94   0.006410          (GOPAY, Double cheese burger, Coffe)\n",
              "66   0.006410                    (GOPAY, Beef burger, Coke)\n",
              "69   0.009615                    (Beef burger, Coke, TUNAI)\n",
              "63   0.009615                   (GOPAY, Beef burger, Coffe)\n",
              "86   0.012821                  (Chicken burger, Coffe, OVO)\n",
              "73   0.012821                 (None, Beef burger, LINK AJA)\n",
              "96   0.012821            (Double cheese burger, Coffe, OVO)\n",
              "68   0.012821                      (Beef burger, Coke, OVO)\n",
              "93   0.012821           (DANA, Double cheese burger, Coffe)\n",
              "67   0.012821                 (Beef burger, Coke, LINK AJA)\n",
              "91   0.012821                   (Chicken burger, None, OVO)\n",
              "77   0.016026                    (TUNAI, Beef burger, None)\n",
              "64   0.016026                (Beef burger, LINK AJA, Coffe)\n",
              "102  0.016026  (Mineral water, Double cheese burger, TUNAI)\n",
              "95   0.019231       (Double cheese burger, LINK AJA, Coffe)\n",
              "60   0.019231                                   (None, OVO)\n",
              "90   0.022436              (Chicken burger, None, LINK AJA)\n",
              "101  0.022436    (Mineral water, Double cheese burger, OVO)\n",
              "27   0.022436                        (Cheese burger, TUNAI)"
            ]
          },
          "metadata": {
            "tags": []
          },
          "execution_count": 40
        }
      ]
    },
    {
      "cell_type": "markdown",
      "metadata": {
        "id": "759LOJ8MnLTw",
        "colab_type": "text"
      },
      "source": [
        "## **KNN**"
      ]
    },
    {
      "cell_type": "code",
      "metadata": {
        "id": "e7sLAc1vnO_U",
        "colab_type": "code",
        "outputId": "0d534f8f-75f6-4631-9ddf-029fb36400c0",
        "colab": {
          "base_uri": "https://localhost:8080/",
          "height": 255
        }
      },
      "source": [
        "#encode\n",
        "from sklearn.preprocessing import LabelEncoder\n",
        "burgerstar['target'] = LabelEncoder().fit_transform(burgerstar['Payment'])\n",
        "burgerstar.head()"
      ],
      "execution_count": 0,
      "outputs": [
        {
          "output_type": "execute_result",
          "data": {
            "text/html": [
              "<div>\n",
              "<style scoped>\n",
              "    .dataframe tbody tr th:only-of-type {\n",
              "        vertical-align: middle;\n",
              "    }\n",
              "\n",
              "    .dataframe tbody tr th {\n",
              "        vertical-align: top;\n",
              "    }\n",
              "\n",
              "    .dataframe thead th {\n",
              "        text-align: right;\n",
              "    }\n",
              "</style>\n",
              "<table border=\"1\" class=\"dataframe\">\n",
              "  <thead>\n",
              "    <tr style=\"text-align: right;\">\n",
              "      <th></th>\n",
              "      <th>Timestamp</th>\n",
              "      <th>Type Burger</th>\n",
              "      <th>Code Burger</th>\n",
              "      <th>Amount Burger</th>\n",
              "      <th>Type Drink</th>\n",
              "      <th>Code Drink</th>\n",
              "      <th>Amount Drink</th>\n",
              "      <th>Gender</th>\n",
              "      <th>Payment</th>\n",
              "      <th>type</th>\n",
              "      <th>target</th>\n",
              "    </tr>\n",
              "  </thead>\n",
              "  <tbody>\n",
              "    <tr>\n",
              "      <th>0</th>\n",
              "      <td>10:01</td>\n",
              "      <td>Beef burger</td>\n",
              "      <td>1</td>\n",
              "      <td>6</td>\n",
              "      <td>Mineral water</td>\n",
              "      <td>1</td>\n",
              "      <td>3</td>\n",
              "      <td>1</td>\n",
              "      <td>DANA</td>\n",
              "      <td>[Beef burger, Mineral water, DANA]</td>\n",
              "      <td>0</td>\n",
              "    </tr>\n",
              "    <tr>\n",
              "      <th>1</th>\n",
              "      <td>10:04</td>\n",
              "      <td>Cheese burger</td>\n",
              "      <td>3</td>\n",
              "      <td>12</td>\n",
              "      <td>Coke</td>\n",
              "      <td>2</td>\n",
              "      <td>10</td>\n",
              "      <td>0</td>\n",
              "      <td>DANA</td>\n",
              "      <td>[Cheese burger, Coke, DANA]</td>\n",
              "      <td>0</td>\n",
              "    </tr>\n",
              "    <tr>\n",
              "      <th>2</th>\n",
              "      <td>10:05</td>\n",
              "      <td>Double cheese burger</td>\n",
              "      <td>4</td>\n",
              "      <td>10</td>\n",
              "      <td>Mineral water</td>\n",
              "      <td>1</td>\n",
              "      <td>5</td>\n",
              "      <td>0</td>\n",
              "      <td>LINK AJA</td>\n",
              "      <td>[Double cheese burger, Mineral water, LINK AJA]</td>\n",
              "      <td>2</td>\n",
              "    </tr>\n",
              "    <tr>\n",
              "      <th>3</th>\n",
              "      <td>10:06</td>\n",
              "      <td>Chicken burger</td>\n",
              "      <td>2</td>\n",
              "      <td>9</td>\n",
              "      <td>Coffe</td>\n",
              "      <td>3</td>\n",
              "      <td>9</td>\n",
              "      <td>0</td>\n",
              "      <td>DANA</td>\n",
              "      <td>[Chicken burger, Coffe, DANA]</td>\n",
              "      <td>0</td>\n",
              "    </tr>\n",
              "    <tr>\n",
              "      <th>4</th>\n",
              "      <td>10:07</td>\n",
              "      <td>Cheese burger</td>\n",
              "      <td>3</td>\n",
              "      <td>11</td>\n",
              "      <td>Coke</td>\n",
              "      <td>2</td>\n",
              "      <td>3</td>\n",
              "      <td>1</td>\n",
              "      <td>DANA</td>\n",
              "      <td>[Cheese burger, Coke, DANA]</td>\n",
              "      <td>0</td>\n",
              "    </tr>\n",
              "  </tbody>\n",
              "</table>\n",
              "</div>"
            ],
            "text/plain": [
              "  Timestamp  ... target\n",
              "0     10:01  ...      0\n",
              "1     10:04  ...      0\n",
              "2     10:05  ...      2\n",
              "3     10:06  ...      0\n",
              "4     10:07  ...      0\n",
              "\n",
              "[5 rows x 11 columns]"
            ]
          },
          "metadata": {
            "tags": []
          },
          "execution_count": 41
        }
      ]
    },
    {
      "cell_type": "markdown",
      "metadata": {
        "id": "gYlEhPpboHPc",
        "colab_type": "text"
      },
      "source": [
        "## **Visualization**"
      ]
    },
    {
      "cell_type": "code",
      "metadata": {
        "id": "aBBg3WxKoqQs",
        "colab_type": "code",
        "colab": {}
      },
      "source": [
        "## coba\n",
        "import seaborn as sns\n",
        "import matplotlib.pyplot as plt"
      ],
      "execution_count": 0,
      "outputs": []
    },
    {
      "cell_type": "code",
      "metadata": {
        "id": "UNGYskmeP5nn",
        "colab_type": "code",
        "outputId": "1a3ed483-9e6c-4bc6-eb38-8850fe5510a3",
        "colab": {
          "base_uri": "https://localhost:8080/",
          "height": 369
        }
      },
      "source": [
        "from sklearn.datasets.samples_generator import make_blobs\n",
        "X, y_true = make_blobs(n_samples=300, centers=4,\n",
        "                       cluster_std=0.60, random_state=0)\n",
        "plt.scatter(X[:, 0], X[:, 1], s=50);"
      ],
      "execution_count": 0,
      "outputs": [
        {
          "output_type": "display_data",
          "data": {
            "image/png": "[encoded data removed]",
            "text/plain": [
              "<Figure size 576x396 with 1 Axes>"
            ]
          },
          "metadata": {
            "tags": []
          }
        }
      ]
    },
    {
      "cell_type": "code",
      "metadata": {
        "id": "W5EzIScLwCoU",
        "colab_type": "code",
        "colab": {}
      },
      "source": [
        "#filter by typepayment\n",
        "databurger = burgerstar[burgerstar['Payment'] =='DANA']\n",
        "topburgerbasedonpayment = databurger.sort_values('Amount Burger',ascending=False).head()"
      ],
      "execution_count": 0,
      "outputs": []
    },
    {
      "cell_type": "code",
      "metadata": {
        "id": "3RogNo5SxlLP",
        "colab_type": "code",
        "outputId": "c1cdad56-a118-4f49-d9f2-fdd2770eb400",
        "colab": {
          "base_uri": "https://localhost:8080/",
          "height": 289
        }
      },
      "source": [
        "burgerstar.info()"
      ],
      "execution_count": 0,
      "outputs": [
        {
          "output_type": "stream",
          "text": [
            "<class 'pandas.core.frame.DataFrame'>\n",
            "RangeIndex: 312 entries, 0 to 311\n",
            "Data columns (total 11 columns):\n",
            "Timestamp        312 non-null object\n",
            "Type Burger      312 non-null object\n",
            "Code Burger      312 non-null int64\n",
            "Amount Burger    312 non-null int64\n",
            "Type Drink       312 non-null object\n",
            "Code Drink       312 non-null int64\n",
            "Amount Drink     312 non-null int64\n",
            "Gender           312 non-null int64\n",
            "Payment          312 non-null object\n",
            "type             312 non-null object\n",
            "target           312 non-null int64\n",
            "dtypes: int64(6), object(5)\n",
            "memory usage: 26.9+ KB\n"
          ],
          "name": "stdout"
        }
      ]
    },
    {
      "cell_type": "markdown",
      "metadata": {
        "id": "7MwrKc_kPh0F",
        "colab_type": "text"
      },
      "source": [
        "### **Bar Plot**"
      ]
    },
    {
      "cell_type": "code",
      "metadata": {
        "id": "3W6L0RGJuypw",
        "colab_type": "code",
        "outputId": "554ce693-98d6-40f1-8071-6c65a11f3c45",
        "colab": {
          "base_uri": "https://localhost:8080/",
          "height": 1000
        }
      },
      "source": [
        "fig=plt.figure(figsize=(18,22))\n",
        "\n",
        "#plt.show()\n",
        "fig.add_subplot(2,2,1)\n",
        "ax = sns.countplot(x='Type Burger',data=burgerstar,order=burgerstar['Type Burger'].value_counts().index[:15])\n",
        "locs, labels = plt.xticks();\n",
        "plt.setp(labels, rotation=45);\n",
        "ax.set_title(\"Type of Burger Has Been Sold\");\n",
        "\n",
        "fig.add_subplot(2,2,2)\n",
        "ax = sns.countplot(x='Type Drink',data=burgerstar,order=burgerstar['Type Drink'].value_counts().index[:10])\n",
        "locs, labels = plt.xticks();\n",
        "plt.setp(labels, rotation=45);\n",
        "ax.set_title(\"Type of Drink Has Been Sold\");\n",
        "\n",
        "fig.add_subplot(2,2,3)\n",
        "ax = sns.countplot(x='Payment',data=burgerstar,order=burgerstar['Payment'].value_counts().index[:15])\n",
        "locs, labels = plt.xticks();\n",
        "plt.setp(labels, rotation=45);\n",
        "ax.set_title(\"Type of Payment\");"
      ],
      "execution_count": 0,
      "outputs": [
        {
          "output_type": "display_data",
          "data": {
            "image/png": "[encoded data removed]",
            "text/plain": [
              "<Figure size 1296x1584 with 3 Axes>"
            ]
          },
          "metadata": {
            "tags": []
          }
        }
      ]
    },
    {
      "cell_type": "markdown",
      "metadata": {
        "id": "Cdj7m_5-bSaQ",
        "colab_type": "text"
      },
      "source": [
        "## **PREDICTION**"
      ]
    },
    {
      "cell_type": "markdown",
      "metadata": {
        "id": "ab_b1o1oQCzg",
        "colab_type": "text"
      },
      "source": [
        "### **Numerical and Categorical**"
      ]
    },
    {
      "cell_type": "code",
      "metadata": {
        "id": "VMdyUONdRF0c",
        "colab_type": "code",
        "outputId": "7357b46a-8e4d-4fc1-deb3-f76dd5763c38",
        "colab": {
          "base_uri": "https://localhost:8080/",
          "height": 119
        }
      },
      "source": [
        "numerical_columns = [col for col in burgerstar.columns if (burgerstar[col].dtype=='int64' or burgerstar[col].dtype=='float64') and col != 'Exited']\n",
        "numerical_columns"
      ],
      "execution_count": 0,
      "outputs": [
        {
          "output_type": "execute_result",
          "data": {
            "text/plain": [
              "['Code Burger',\n",
              " 'Amount Burger',\n",
              " 'Code Drink',\n",
              " 'Amount Drink',\n",
              " 'Gender',\n",
              " 'target']"
            ]
          },
          "metadata": {
            "tags": []
          },
          "execution_count": 47
        }
      ]
    },
    {
      "cell_type": "code",
      "metadata": {
        "id": "FdMDXnRpS0Mp",
        "colab_type": "code",
        "outputId": "3aeb7525-4852-4f7c-93a8-bbf4c909915f",
        "colab": {
          "base_uri": "https://localhost:8080/",
          "height": 173
        }
      },
      "source": [
        "burgerstar[numerical_columns].describe().loc[['min','max', 'mean','50%'],:]"
      ],
      "execution_count": 0,
      "outputs": [
        {
          "output_type": "execute_result",
          "data": {
            "text/html": [
              "<div>\n",
              "<style scoped>\n",
              "    .dataframe tbody tr th:only-of-type {\n",
              "        vertical-align: middle;\n",
              "    }\n",
              "\n",
              "    .dataframe tbody tr th {\n",
              "        vertical-align: top;\n",
              "    }\n",
              "\n",
              "    .dataframe thead th {\n",
              "        text-align: right;\n",
              "    }\n",
              "</style>\n",
              "<table border=\"1\" class=\"dataframe\">\n",
              "  <thead>\n",
              "    <tr style=\"text-align: right;\">\n",
              "      <th></th>\n",
              "      <th>Code Burger</th>\n",
              "      <th>Amount Burger</th>\n",
              "      <th>Code Drink</th>\n",
              "      <th>Amount Drink</th>\n",
              "      <th>Gender</th>\n",
              "      <th>target</th>\n",
              "    </tr>\n",
              "  </thead>\n",
              "  <tbody>\n",
              "    <tr>\n",
              "      <th>min</th>\n",
              "      <td>1.00</td>\n",
              "      <td>1.00</td>\n",
              "      <td>0.000000</td>\n",
              "      <td>0.000000</td>\n",
              "      <td>0.000000</td>\n",
              "      <td>0.000000</td>\n",
              "    </tr>\n",
              "    <tr>\n",
              "      <th>max</th>\n",
              "      <td>4.00</td>\n",
              "      <td>12.00</td>\n",
              "      <td>3.000000</td>\n",
              "      <td>10.000000</td>\n",
              "      <td>1.000000</td>\n",
              "      <td>4.000000</td>\n",
              "    </tr>\n",
              "    <tr>\n",
              "      <th>mean</th>\n",
              "      <td>2.25</td>\n",
              "      <td>6.25</td>\n",
              "      <td>1.637821</td>\n",
              "      <td>3.913462</td>\n",
              "      <td>0.451923</td>\n",
              "      <td>1.958333</td>\n",
              "    </tr>\n",
              "    <tr>\n",
              "      <th>50%</th>\n",
              "      <td>2.00</td>\n",
              "      <td>6.00</td>\n",
              "      <td>2.000000</td>\n",
              "      <td>3.000000</td>\n",
              "      <td>0.000000</td>\n",
              "      <td>2.000000</td>\n",
              "    </tr>\n",
              "  </tbody>\n",
              "</table>\n",
              "</div>"
            ],
            "text/plain": [
              "      Code Burger  Amount Burger  Code Drink  Amount Drink    Gender    target\n",
              "min          1.00           1.00    0.000000      0.000000  0.000000  0.000000\n",
              "max          4.00          12.00    3.000000     10.000000  1.000000  4.000000\n",
              "mean         2.25           6.25    1.637821      3.913462  0.451923  1.958333\n",
              "50%          2.00           6.00    2.000000      3.000000  0.000000  2.000000"
            ]
          },
          "metadata": {
            "tags": []
          },
          "execution_count": 48
        }
      ]
    },
    {
      "cell_type": "markdown",
      "metadata": {
        "id": "enVuTzF8k1eL",
        "colab_type": "text"
      },
      "source": [
        "### **Prediksi Payment Channel for Cashback**"
      ]
    },
    {
      "cell_type": "code",
      "metadata": {
        "id": "Jwy6qkeEVQvw",
        "colab_type": "code",
        "outputId": "124d7bb0-1d78-4f63-938b-751a8da90fd1",
        "colab": {
          "base_uri": "https://localhost:8080/",
          "height": 204
        }
      },
      "source": [
        "burgerstar[burgerstar['Amount Burger'] == burgerstar['Amount Burger'].min()].head()"
      ],
      "execution_count": 0,
      "outputs": [
        {
          "output_type": "execute_result",
          "data": {
            "text/html": [
              "<div>\n",
              "<style scoped>\n",
              "    .dataframe tbody tr th:only-of-type {\n",
              "        vertical-align: middle;\n",
              "    }\n",
              "\n",
              "    .dataframe tbody tr th {\n",
              "        vertical-align: top;\n",
              "    }\n",
              "\n",
              "    .dataframe thead th {\n",
              "        text-align: right;\n",
              "    }\n",
              "</style>\n",
              "<table border=\"1\" class=\"dataframe\">\n",
              "  <thead>\n",
              "    <tr style=\"text-align: right;\">\n",
              "      <th></th>\n",
              "      <th>Timestamp</th>\n",
              "      <th>Type Burger</th>\n",
              "      <th>Code Burger</th>\n",
              "      <th>Amount Burger</th>\n",
              "      <th>Type Drink</th>\n",
              "      <th>Code Drink</th>\n",
              "      <th>Amount Drink</th>\n",
              "      <th>Gender</th>\n",
              "      <th>Payment</th>\n",
              "      <th>type</th>\n",
              "      <th>target</th>\n",
              "    </tr>\n",
              "  </thead>\n",
              "  <tbody>\n",
              "    <tr>\n",
              "      <th>16</th>\n",
              "      <td>10:33</td>\n",
              "      <td>Beef burger</td>\n",
              "      <td>1</td>\n",
              "      <td>1</td>\n",
              "      <td>Mineral water</td>\n",
              "      <td>1</td>\n",
              "      <td>1</td>\n",
              "      <td>1</td>\n",
              "      <td>GOPAY</td>\n",
              "      <td>[Beef burger, Mineral water, GOPAY]</td>\n",
              "      <td>1</td>\n",
              "    </tr>\n",
              "    <tr>\n",
              "      <th>17</th>\n",
              "      <td>10:37</td>\n",
              "      <td>Beef burger</td>\n",
              "      <td>1</td>\n",
              "      <td>1</td>\n",
              "      <td>Coffe</td>\n",
              "      <td>3</td>\n",
              "      <td>1</td>\n",
              "      <td>1</td>\n",
              "      <td>DANA</td>\n",
              "      <td>[Beef burger, Coffe, DANA]</td>\n",
              "      <td>0</td>\n",
              "    </tr>\n",
              "    <tr>\n",
              "      <th>18</th>\n",
              "      <td>10:38</td>\n",
              "      <td>Beef burger</td>\n",
              "      <td>1</td>\n",
              "      <td>1</td>\n",
              "      <td>Coffe</td>\n",
              "      <td>3</td>\n",
              "      <td>1</td>\n",
              "      <td>1</td>\n",
              "      <td>LINK AJA</td>\n",
              "      <td>[Beef burger, Coffe, LINK AJA]</td>\n",
              "      <td>2</td>\n",
              "    </tr>\n",
              "    <tr>\n",
              "      <th>24</th>\n",
              "      <td>10:49</td>\n",
              "      <td>Beef burger</td>\n",
              "      <td>1</td>\n",
              "      <td>1</td>\n",
              "      <td>None</td>\n",
              "      <td>0</td>\n",
              "      <td>1</td>\n",
              "      <td>0</td>\n",
              "      <td>OVO</td>\n",
              "      <td>[Beef burger, None, OVO]</td>\n",
              "      <td>3</td>\n",
              "    </tr>\n",
              "    <tr>\n",
              "      <th>36</th>\n",
              "      <td>11:19</td>\n",
              "      <td>Beef burger</td>\n",
              "      <td>1</td>\n",
              "      <td>1</td>\n",
              "      <td>Coffe</td>\n",
              "      <td>3</td>\n",
              "      <td>1</td>\n",
              "      <td>1</td>\n",
              "      <td>LINK AJA</td>\n",
              "      <td>[Beef burger, Coffe, LINK AJA]</td>\n",
              "      <td>2</td>\n",
              "    </tr>\n",
              "  </tbody>\n",
              "</table>\n",
              "</div>"
            ],
            "text/plain": [
              "   Timestamp  Type Burger  ...                                 type  target\n",
              "16     10:33  Beef burger  ...  [Beef burger, Mineral water, GOPAY]       1\n",
              "17     10:37  Beef burger  ...           [Beef burger, Coffe, DANA]       0\n",
              "18     10:38  Beef burger  ...       [Beef burger, Coffe, LINK AJA]       2\n",
              "24     10:49  Beef burger  ...             [Beef burger, None, OVO]       3\n",
              "36     11:19  Beef burger  ...       [Beef burger, Coffe, LINK AJA]       2\n",
              "\n",
              "[5 rows x 11 columns]"
            ]
          },
          "metadata": {
            "tags": []
          },
          "execution_count": 49
        }
      ]
    },
    {
      "cell_type": "code",
      "metadata": {
        "id": "ZuLFCoX1Vc2w",
        "colab_type": "code",
        "outputId": "0f32a65c-33dc-4694-e144-86427e9633b9",
        "colab": {
          "base_uri": "https://localhost:8080/",
          "height": 102
        }
      },
      "source": [
        "#percentage customer for payment channel\n",
        "percentages = []\n",
        "for pym in list(burgerstar[\"Payment\"].unique()):\n",
        "    \n",
        "    p = round((burgerstar[\"Type Burger\"][burgerstar[\"Payment\"]==pym].value_counts()[1]/burgerstar[\"Type Burger\"][burgerstar[\"Payment\"]==pym].value_counts().sum())*100 , 2)\n",
        "    \n",
        "    percentages.append(p)\n",
        "    print(pym,\"(% to payment) : \", p)"
      ],
      "execution_count": 0,
      "outputs": [
        {
          "output_type": "stream",
          "text": [
            "DANA (% to payment) :  26.56\n",
            "LINK AJA (% to payment) :  23.88\n",
            "GOPAY (% to payment) :  27.69\n",
            "TUNAI (% to payment) :  23.44\n",
            "OVO (% to payment) :  25.0\n"
          ],
          "name": "stdout"
        }
      ]
    },
    {
      "cell_type": "code",
      "metadata": {
        "id": "LwTaSaWLVtsq",
        "colab_type": "code",
        "outputId": "dc46f19a-01fa-45c4-f3ee-390a04223c00",
        "colab": {
          "base_uri": "https://localhost:8080/",
          "height": 398
        }
      },
      "source": [
        "plt.bar(0, percentages[0])\n",
        "plt.bar(1, percentages[1])\n",
        "plt.bar(2, percentages[2])\n",
        "plt.bar(3, percentages[3])\n",
        "plt.bar(4, percentages[4])\n",
        "plt.xticks((0,1,2,3,4), ('DANA','LINK AJA', 'GOPAY', 'TUNAI', 'OVO'))\n",
        "plt.xlabel(\"Payment\")\n",
        "plt.ylabel(\"Percentage\")\n",
        "plt.title(\"Percentage of Payment from Burger Type\")\n",
        "plt.show()"
      ],
      "execution_count": 0,
      "outputs": [
        {
          "output_type": "display_data",
          "data": {
            "image/png": "[encoded data removed]",
            "text/plain": [
              "<Figure size 576x396 with 1 Axes>"
            ]
          },
          "metadata": {
            "tags": []
          }
        }
      ]
    },
    {
      "cell_type": "code",
      "metadata": {
        "id": "cBU_b4MjWijO",
        "colab_type": "code",
        "outputId": "d2c50e8b-8236-4568-fc07-1d919850efbd",
        "colab": {
          "base_uri": "https://localhost:8080/",
          "height": 102
        }
      },
      "source": [
        "#percentage customer for Drink Type payment channel \n",
        "percentages1 = []\n",
        "for pymd in list(burgerstar[\"Payment\"].unique()):\n",
        "    \n",
        "    pd = round((burgerstar[\"Type Drink\"][burgerstar[\"Payment\"]==pymd].value_counts()[1]/burgerstar[\"Type Drink\"][burgerstar[\"Payment\"]==pymd].value_counts().sum())*100 , 2)\n",
        "    percentages1.append(pd)\n",
        "    print(pymd,\"(% to payment for Type Drink) : \", pd)"
      ],
      "execution_count": 0,
      "outputs": [
        {
          "output_type": "stream",
          "text": [
            "DANA (% to payment for Type Drink) :  29.69\n",
            "LINK AJA (% to payment for Type Drink) :  28.36\n",
            "GOPAY (% to payment for Type Drink) :  20.0\n",
            "TUNAI (% to payment for Type Drink) :  25.0\n",
            "OVO (% to payment for Type Drink) :  32.69\n"
          ],
          "name": "stdout"
        }
      ]
    },
    {
      "cell_type": "code",
      "metadata": {
        "id": "lCcBKtQXYEzt",
        "colab_type": "code",
        "outputId": "1c134b7c-8f9c-45ca-f487-bc3481d900b0",
        "colab": {
          "base_uri": "https://localhost:8080/",
          "height": 398
        }
      },
      "source": [
        "plt.bar(0, percentages1[0])\n",
        "plt.bar(1, percentages1[1])\n",
        "plt.bar(2, percentages1[2])\n",
        "plt.bar(3, percentages1[3])\n",
        "plt.bar(4, percentages1[4])\n",
        "plt.xticks((0,1,2,3,4), ('DANA','LINK AJA', 'GOPAY', 'TUNAI', 'OVO'))\n",
        "plt.xlabel(\"Payment\")\n",
        "plt.ylabel(\"Percentage\")\n",
        "plt.title(\"Percentage of Payment from Drink Type\")\n",
        "plt.show()"
      ],
      "execution_count": 0,
      "outputs": [
        {
          "output_type": "display_data",
          "data": {
            "image/png": "[encoded data removed]",
            "text/plain": [
              "<Figure size 576x396 with 1 Axes>"
            ]
          },
          "metadata": {
            "tags": []
          }
        }
      ]
    },
    {
      "cell_type": "markdown",
      "metadata": {
        "id": "JwmO2b0Jetjk",
        "colab_type": "text"
      },
      "source": [
        "## **TIME SERIES ANALYSIS PLOT**"
      ]
    },
    {
      "cell_type": "code",
      "metadata": {
        "id": "kyeJ6ls6ezm_",
        "colab_type": "code",
        "colab": {}
      },
      "source": [
        "import warnings\n",
        "import itertools\n",
        "import matplotlib.pyplot as plt\n",
        "warnings.filterwarnings(\"ignore\")\n",
        "plt.style.use('fivethirtyeight')\n",
        "import statsmodels.api as sm\n",
        "import matplotlib\n",
        "matplotlib.rcParams['axes.labelsize'] = 14\n",
        "matplotlib.rcParams['xtick.labelsize'] = 12\n",
        "matplotlib.rcParams['ytick.labelsize'] = 12\n",
        "matplotlib.rcParams['text.color'] = 'k'\n",
        "from sys import stdout"
      ],
      "execution_count": 0,
      "outputs": []
    },
    {
      "cell_type": "code",
      "metadata": {
        "id": "V0yaz3Yqe1Fl",
        "colab_type": "code",
        "outputId": "6bec7f9c-f12b-4b12-9401-77d86e4fa477",
        "colab": {
          "base_uri": "https://localhost:8080/",
          "height": 119
        }
      },
      "source": [
        "time = burgerstar.set_index('Timestamp')\n",
        "time.index"
      ],
      "execution_count": 0,
      "outputs": [
        {
          "output_type": "execute_result",
          "data": {
            "text/plain": [
              "Index(['10:01', '10:04', '10:05', '10:06', '10:07', '10:08', '10:09', '10:11',\n",
              "       '10:12', '10:16',\n",
              "       ...\n",
              "       '21:34', '21:37', '21:39', '21:41', '21:44', '21:47', '21:50', '21:53',\n",
              "       '21:55', '21:57'],\n",
              "      dtype='object', name='Timestamp', length=312)"
            ]
          },
          "metadata": {
            "tags": []
          },
          "execution_count": 55
        }
      ]
    },
    {
      "cell_type": "code",
      "metadata": {
        "id": "Ao8btzg1pq98",
        "colab_type": "code",
        "outputId": "9f47cd01-0039-4252-e589-c8ac3ac1fa55",
        "colab": {
          "base_uri": "https://localhost:8080/",
          "height": 255
        }
      },
      "source": [
        "burgerstar['column_new'] = burgerstar['Timestamp'].str.split(':')\n",
        "burgerstar.head()"
      ],
      "execution_count": 0,
      "outputs": [
        {
          "output_type": "execute_result",
          "data": {
            "text/html": [
              "<div>\n",
              "<style scoped>\n",
              "    .dataframe tbody tr th:only-of-type {\n",
              "        vertical-align: middle;\n",
              "    }\n",
              "\n",
              "    .dataframe tbody tr th {\n",
              "        vertical-align: top;\n",
              "    }\n",
              "\n",
              "    .dataframe thead th {\n",
              "        text-align: right;\n",
              "    }\n",
              "</style>\n",
              "<table border=\"1\" class=\"dataframe\">\n",
              "  <thead>\n",
              "    <tr style=\"text-align: right;\">\n",
              "      <th></th>\n",
              "      <th>Timestamp</th>\n",
              "      <th>Type Burger</th>\n",
              "      <th>Code Burger</th>\n",
              "      <th>Amount Burger</th>\n",
              "      <th>Type Drink</th>\n",
              "      <th>Code Drink</th>\n",
              "      <th>Amount Drink</th>\n",
              "      <th>Gender</th>\n",
              "      <th>Payment</th>\n",
              "      <th>type</th>\n",
              "      <th>target</th>\n",
              "      <th>column_new</th>\n",
              "    </tr>\n",
              "  </thead>\n",
              "  <tbody>\n",
              "    <tr>\n",
              "      <th>0</th>\n",
              "      <td>10:01</td>\n",
              "      <td>Beef burger</td>\n",
              "      <td>1</td>\n",
              "      <td>6</td>\n",
              "      <td>Mineral water</td>\n",
              "      <td>1</td>\n",
              "      <td>3</td>\n",
              "      <td>1</td>\n",
              "      <td>DANA</td>\n",
              "      <td>[Beef burger, Mineral water, DANA]</td>\n",
              "      <td>0</td>\n",
              "      <td>[10, 01]</td>\n",
              "    </tr>\n",
              "    <tr>\n",
              "      <th>1</th>\n",
              "      <td>10:04</td>\n",
              "      <td>Cheese burger</td>\n",
              "      <td>3</td>\n",
              "      <td>12</td>\n",
              "      <td>Coke</td>\n",
              "      <td>2</td>\n",
              "      <td>10</td>\n",
              "      <td>0</td>\n",
              "      <td>DANA</td>\n",
              "      <td>[Cheese burger, Coke, DANA]</td>\n",
              "      <td>0</td>\n",
              "      <td>[10, 04]</td>\n",
              "    </tr>\n",
              "    <tr>\n",
              "      <th>2</th>\n",
              "      <td>10:05</td>\n",
              "      <td>Double cheese burger</td>\n",
              "      <td>4</td>\n",
              "      <td>10</td>\n",
              "      <td>Mineral water</td>\n",
              "      <td>1</td>\n",
              "      <td>5</td>\n",
              "      <td>0</td>\n",
              "      <td>LINK AJA</td>\n",
              "      <td>[Double cheese burger, Mineral water, LINK AJA]</td>\n",
              "      <td>2</td>\n",
              "      <td>[10, 05]</td>\n",
              "    </tr>\n",
              "    <tr>\n",
              "      <th>3</th>\n",
              "      <td>10:06</td>\n",
              "      <td>Chicken burger</td>\n",
              "      <td>2</td>\n",
              "      <td>9</td>\n",
              "      <td>Coffe</td>\n",
              "      <td>3</td>\n",
              "      <td>9</td>\n",
              "      <td>0</td>\n",
              "      <td>DANA</td>\n",
              "      <td>[Chicken burger, Coffe, DANA]</td>\n",
              "      <td>0</td>\n",
              "      <td>[10, 06]</td>\n",
              "    </tr>\n",
              "    <tr>\n",
              "      <th>4</th>\n",
              "      <td>10:07</td>\n",
              "      <td>Cheese burger</td>\n",
              "      <td>3</td>\n",
              "      <td>11</td>\n",
              "      <td>Coke</td>\n",
              "      <td>2</td>\n",
              "      <td>3</td>\n",
              "      <td>1</td>\n",
              "      <td>DANA</td>\n",
              "      <td>[Cheese burger, Coke, DANA]</td>\n",
              "      <td>0</td>\n",
              "      <td>[10, 07]</td>\n",
              "    </tr>\n",
              "  </tbody>\n",
              "</table>\n",
              "</div>"
            ],
            "text/plain": [
              "  Timestamp           Type Burger  ...  target  column_new\n",
              "0     10:01           Beef burger  ...       0    [10, 01]\n",
              "1     10:04         Cheese burger  ...       0    [10, 04]\n",
              "2     10:05  Double cheese burger  ...       2    [10, 05]\n",
              "3     10:06        Chicken burger  ...       0    [10, 06]\n",
              "4     10:07         Cheese burger  ...       0    [10, 07]\n",
              "\n",
              "[5 rows x 12 columns]"
            ]
          },
          "metadata": {
            "tags": []
          },
          "execution_count": 56
        }
      ]
    },
    {
      "cell_type": "code",
      "metadata": {
        "id": "yJad3GVrgNe7",
        "colab_type": "code",
        "colab": {}
      },
      "source": [
        "def get_part_of_day(time = burgerstar.set_index('Timestamp')):\n",
        "    return (\n",
        "        \"morning\" if 5 <= time <= 11\n",
        "        else\n",
        "        \"afternoon\" if 12 <= time <= 17\n",
        "        else\n",
        "        \"evening\" if 18 <= time <= 22\n",
        "        else\n",
        "        \"night\"\n",
        "    )"
      ],
      "execution_count": 0,
      "outputs": []
    },
    {
      "cell_type": "code",
      "metadata": {
        "id": "MPTrkVDXgoXq",
        "colab_type": "code",
        "outputId": "4a60ae55-e5d5-4fae-98a2-96af91b23e10",
        "colab": {
          "base_uri": "https://localhost:8080/",
          "height": 425
        }
      },
      "source": [
        "for h in range(0, 24):\n",
        "    stdout.write('hour {0} is {1}\\n'.format(h, get_part_of_day(h)))"
      ],
      "execution_count": 0,
      "outputs": [
        {
          "output_type": "stream",
          "text": [
            "hour 0 is night\n",
            "hour 1 is night\n",
            "hour 2 is night\n",
            "hour 3 is night\n",
            "hour 4 is night\n",
            "hour 5 is morning\n",
            "hour 6 is morning\n",
            "hour 7 is morning\n",
            "hour 8 is morning\n",
            "hour 9 is morning\n",
            "hour 10 is morning\n",
            "hour 11 is morning\n",
            "hour 12 is afternoon\n",
            "hour 13 is afternoon\n",
            "hour 14 is afternoon\n",
            "hour 15 is afternoon\n",
            "hour 16 is afternoon\n",
            "hour 17 is afternoon\n",
            "hour 18 is evening\n",
            "hour 19 is evening\n",
            "hour 20 is evening\n",
            "hour 21 is evening\n",
            "hour 22 is evening\n",
            "hour 23 is night\n"
          ],
          "name": "stdout"
        }
      ]
    },
    {
      "cell_type": "code",
      "metadata": {
        "id": "kwvlK_b6oNtI",
        "colab_type": "code",
        "outputId": "dd13c99d-89d7-42aa-9b11-c2872a0a714d",
        "colab": {
          "base_uri": "https://localhost:8080/",
          "height": 323
        }
      },
      "source": [
        "import pandas as pd\n",
        "time = pd.to_datetime(burgerstar['Timestamp'])\n",
        "burgerstar['Timestamp2'] = pd.DataFrame(time.dt.hour)\n",
        "hourtime = burgerstar\n",
        "hourtime['Timestamp3'] = np.where(hourtime['Timestamp2'] >= 18, 'Malam', 'Siang')\n",
        "hourtime.head()"
      ],
      "execution_count": 0,
      "outputs": [
        {
          "output_type": "execute_result",
          "data": {
            "text/html": [
              "<div>\n",
              "<style scoped>\n",
              "    .dataframe tbody tr th:only-of-type {\n",
              "        vertical-align: middle;\n",
              "    }\n",
              "\n",
              "    .dataframe tbody tr th {\n",
              "        vertical-align: top;\n",
              "    }\n",
              "\n",
              "    .dataframe thead th {\n",
              "        text-align: right;\n",
              "    }\n",
              "</style>\n",
              "<table border=\"1\" class=\"dataframe\">\n",
              "  <thead>\n",
              "    <tr style=\"text-align: right;\">\n",
              "      <th></th>\n",
              "      <th>Timestamp</th>\n",
              "      <th>Type Burger</th>\n",
              "      <th>Code Burger</th>\n",
              "      <th>Amount Burger</th>\n",
              "      <th>Type Drink</th>\n",
              "      <th>Code Drink</th>\n",
              "      <th>Amount Drink</th>\n",
              "      <th>Gender</th>\n",
              "      <th>Payment</th>\n",
              "      <th>type</th>\n",
              "      <th>target</th>\n",
              "      <th>column_new</th>\n",
              "      <th>Timestamp2</th>\n",
              "      <th>Timestamp3</th>\n",
              "    </tr>\n",
              "  </thead>\n",
              "  <tbody>\n",
              "    <tr>\n",
              "      <th>0</th>\n",
              "      <td>10:01</td>\n",
              "      <td>Beef burger</td>\n",
              "      <td>1</td>\n",
              "      <td>6</td>\n",
              "      <td>Mineral water</td>\n",
              "      <td>1</td>\n",
              "      <td>3</td>\n",
              "      <td>1</td>\n",
              "      <td>DANA</td>\n",
              "      <td>[Beef burger, Mineral water, DANA]</td>\n",
              "      <td>0</td>\n",
              "      <td>[10, 01]</td>\n",
              "      <td>10</td>\n",
              "      <td>Siang</td>\n",
              "    </tr>\n",
              "    <tr>\n",
              "      <th>1</th>\n",
              "      <td>10:04</td>\n",
              "      <td>Cheese burger</td>\n",
              "      <td>3</td>\n",
              "      <td>12</td>\n",
              "      <td>Coke</td>\n",
              "      <td>2</td>\n",
              "      <td>10</td>\n",
              "      <td>0</td>\n",
              "      <td>DANA</td>\n",
              "      <td>[Cheese burger, Coke, DANA]</td>\n",
              "      <td>0</td>\n",
              "      <td>[10, 04]</td>\n",
              "      <td>10</td>\n",
              "      <td>Siang</td>\n",
              "    </tr>\n",
              "    <tr>\n",
              "      <th>2</th>\n",
              "      <td>10:05</td>\n",
              "      <td>Double cheese burger</td>\n",
              "      <td>4</td>\n",
              "      <td>10</td>\n",
              "      <td>Mineral water</td>\n",
              "      <td>1</td>\n",
              "      <td>5</td>\n",
              "      <td>0</td>\n",
              "      <td>LINK AJA</td>\n",
              "      <td>[Double cheese burger, Mineral water, LINK AJA]</td>\n",
              "      <td>2</td>\n",
              "      <td>[10, 05]</td>\n",
              "      <td>10</td>\n",
              "      <td>Siang</td>\n",
              "    </tr>\n",
              "    <tr>\n",
              "      <th>3</th>\n",
              "      <td>10:06</td>\n",
              "      <td>Chicken burger</td>\n",
              "      <td>2</td>\n",
              "      <td>9</td>\n",
              "      <td>Coffe</td>\n",
              "      <td>3</td>\n",
              "      <td>9</td>\n",
              "      <td>0</td>\n",
              "      <td>DANA</td>\n",
              "      <td>[Chicken burger, Coffe, DANA]</td>\n",
              "      <td>0</td>\n",
              "      <td>[10, 06]</td>\n",
              "      <td>10</td>\n",
              "      <td>Siang</td>\n",
              "    </tr>\n",
              "    <tr>\n",
              "      <th>4</th>\n",
              "      <td>10:07</td>\n",
              "      <td>Cheese burger</td>\n",
              "      <td>3</td>\n",
              "      <td>11</td>\n",
              "      <td>Coke</td>\n",
              "      <td>2</td>\n",
              "      <td>3</td>\n",
              "      <td>1</td>\n",
              "      <td>DANA</td>\n",
              "      <td>[Cheese burger, Coke, DANA]</td>\n",
              "      <td>0</td>\n",
              "      <td>[10, 07]</td>\n",
              "      <td>10</td>\n",
              "      <td>Siang</td>\n",
              "    </tr>\n",
              "  </tbody>\n",
              "</table>\n",
              "</div>"
            ],
            "text/plain": [
              "  Timestamp           Type Burger  ...  Timestamp2  Timestamp3\n",
              "0     10:01           Beef burger  ...          10       Siang\n",
              "1     10:04         Cheese burger  ...          10       Siang\n",
              "2     10:05  Double cheese burger  ...          10       Siang\n",
              "3     10:06        Chicken burger  ...          10       Siang\n",
              "4     10:07         Cheese burger  ...          10       Siang\n",
              "\n",
              "[5 rows x 14 columns]"
            ]
          },
          "metadata": {
            "tags": []
          },
          "execution_count": 61
        }
      ]
    },
    {
      "cell_type": "code",
      "metadata": {
        "id": "HMoiF-NBqdlp",
        "colab_type": "code",
        "outputId": "8360e2d9-558a-4435-c73a-9e9d5a434586",
        "colab": {
          "base_uri": "https://localhost:8080/",
          "height": 562
        }
      },
      "source": [
        "fig=plt.figure(figsize=(17,17))\n",
        "\n",
        "#plt.show()\n",
        "fig.add_subplot(2,2,1)\n",
        "ax = sns.countplot(x='Timestamp3',data=burgerstar,order=burgerstar['Timestamp3'].value_counts().index[:15])\n",
        "locs, labels = plt.xticks();\n",
        "plt.setp(labels, rotation=45);\n",
        "ax.set_title(\"Rush Hour Per Day\");"
      ],
      "execution_count": 0,
      "outputs": [
        {
          "output_type": "display_data",
          "data": {
            "image/png": "[encoded data removed]",
            "text/plain": [
              "<Figure size 1224x1224 with 1 Axes>"
            ]
          },
          "metadata": {
            "tags": []
          }
        }
      ]
    },
    {
      "cell_type": "code",
      "metadata": {
        "id": "xY2sBBNgVXej",
        "colab_type": "code",
        "colab": {}
      },
      "source": [
        ""
      ],
      "execution_count": 0,
      "outputs": []
    }
  ]
}